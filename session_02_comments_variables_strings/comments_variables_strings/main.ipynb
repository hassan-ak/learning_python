{
 "cells": [
  {
   "cell_type": "markdown",
   "metadata": {},
   "source": [
    "# Comments, Variables and Strings in Python\n"
   ]
  },
  {
   "cell_type": "markdown",
   "metadata": {},
   "source": [
    "---\n"
   ]
  },
  {
   "cell_type": "markdown",
   "metadata": {},
   "source": [
    "### Comments\n",
    "\n",
    "Comments in Python are invaluable tools for enhancing code clarity and maintainability. By providing explanations, context, and insights into the logic behind the code, comments help both present and future developers understand the purpose and functionality of different parts of the codebase. Additionally, comments can serve as reminders for unfinished tasks, clarify complex sections, and document algorithms, contributing to better collaboration, easier debugging, and overall code quality.\n"
   ]
  },
  {
   "cell_type": "markdown",
   "metadata": {},
   "source": [
    "**Single Line Comment**\n"
   ]
  },
  {
   "cell_type": "code",
   "execution_count": 1,
   "metadata": {},
   "outputs": [],
   "source": [
    "# This is a single-line comment"
   ]
  },
  {
   "cell_type": "code",
   "execution_count": 2,
   "metadata": {},
   "outputs": [
    {
     "data": {
      "text/plain": [
       "'\\nThis is a multi-line comment.\\nIt spans across multiple lines.\\n'"
      ]
     },
     "execution_count": 2,
     "metadata": {},
     "output_type": "execute_result"
    }
   ],
   "source": [
    "\"\"\"\n",
    "This is a multi-line comment.\n",
    "It spans across multiple lines.\n",
    "\"\"\""
   ]
  },
  {
   "cell_type": "code",
   "execution_count": 3,
   "metadata": {},
   "outputs": [
    {
     "data": {
      "text/plain": [
       "'\\nThis is another way of writing a multi-line comment.\\n'"
      ]
     },
     "execution_count": 3,
     "metadata": {},
     "output_type": "execute_result"
    }
   ],
   "source": [
    "\"\"\"\n",
    "This is another way of writing a multi-line comment.\n",
    "\"\"\""
   ]
  },
  {
   "cell_type": "markdown",
   "metadata": {},
   "source": [
    "---\n"
   ]
  },
  {
   "cell_type": "markdown",
   "metadata": {},
   "source": [
    "### Variables\n",
    "\n",
    "In Python, variable names must adhere to certain rules for proper definition:\n",
    "\n",
    "1. **Naming Convention**: Variable names should be descriptive and meaningful, following the convention of using lowercase letters with words separated by underscores (snake_case). For example: `my_variable`, `user_name`, `total_count`.\n",
    "\n",
    "2. **Start with a Letter or Underscore**: Variable names must start with either a letter (a-z, A-Z) or an underscore (`_`). They cannot start with a digit or any special characters other than an underscore.\n",
    "\n",
    "3. **Consist of Letters, Digits, and Underscores**: After the first character, variable names can consist of letters (a-z, A-Z), digits (0-9), and underscores (`_`). They cannot contain spaces or any other special characters.\n",
    "\n",
    "4. **Case Sensitivity**: Python is case-sensitive, so variable names like `my_variable`, `My_Variable`, and `MY_VARIABLE` would be treated as distinct variables.\n",
    "\n",
    "5. **Reserved Keywords**: Variable names cannot be the same as Python's reserved keywords, which are predefined and have special meanings in the language. For example, you cannot name a variable `for`, `if`, `while`, `def`, `class`, etc.\n",
    "\n",
    "6. **Avoid Using Built-in Names**: It's best to avoid using names of built-in functions or modules (such as `print`, `list`, `dict`, etc.) as variable names to prevent potential conflicts and confusion.\n",
    "\n",
    "7. **Note** Use `snake_case` for variable names and `UPPER_SNAKE_CASE` for constants.\n",
    "\n",
    "Following these rules ensures that your variable names are clear, readable, and won't cause unexpected behavior in your Python code.\n"
   ]
  },
  {
   "cell_type": "code",
   "execution_count": 4,
   "metadata": {},
   "outputs": [
    {
     "name": "stdout",
     "output_type": "stream",
     "text": [
      "['False', 'None', 'True', 'and', 'as', 'assert', 'async', 'await', 'break', 'class', 'continue', 'def', 'del', 'elif', 'else', 'except', 'finally', 'for', 'from', 'global', 'if', 'import', 'in', 'is', 'lambda', 'nonlocal', 'not', 'or', 'pass', 'raise', 'return', 'try', 'while', 'with', 'yield']\n"
     ]
    }
   ],
   "source": [
    "# Reserved keywords list\n",
    "\n",
    "import keyword\n",
    "\n",
    "reserved_words: list[str] = keyword.kwlist\n",
    "print(reserved_words)"
   ]
  },
  {
   "cell_type": "code",
   "execution_count": 5,
   "metadata": {},
   "outputs": [
    {
     "name": "stdout",
     "output_type": "stream",
     "text": [
      "['ArithmeticError', 'AssertionError', 'AttributeError', 'BaseException', 'BaseExceptionGroup', 'BlockingIOError', 'BrokenPipeError', 'BufferError', 'BytesWarning', 'ChildProcessError', 'ConnectionAbortedError', 'ConnectionError', 'ConnectionRefusedError', 'ConnectionResetError', 'DeprecationWarning', 'EOFError', 'EncodingWarning', 'EnvironmentError', 'Exception', 'ExceptionGroup', 'FileExistsError', 'FileNotFoundError', 'FloatingPointError', 'FutureWarning', 'GeneratorExit', 'IOError', 'ImportError', 'ImportWarning', 'IndentationError', 'IndexError', 'InterruptedError', 'IsADirectoryError', 'KeyError', 'KeyboardInterrupt', 'LookupError', 'MemoryError', 'ModuleNotFoundError', 'NameError', 'NotADirectoryError', 'NotImplementedError', 'OSError', 'OverflowError', 'PendingDeprecationWarning', 'PermissionError', 'ProcessLookupError', 'RecursionError', 'ReferenceError', 'ResourceWarning', 'RuntimeError', 'RuntimeWarning', 'StopAsyncIteration', 'StopIteration', 'SyntaxError', 'SyntaxWarning', 'SystemError', 'SystemExit', 'TabError', 'TimeoutError', 'TypeError', 'UnboundLocalError', 'UnicodeDecodeError', 'UnicodeEncodeError', 'UnicodeError', 'UnicodeTranslateError', 'UnicodeWarning', 'UserWarning', 'ValueError', 'Warning', 'ZeroDivisionError', '__build_class__', '__import__', '__loader__', 'abs', 'aiter', 'all', 'anext', 'any', 'ascii', 'bin', 'bool', 'breakpoint', 'bytearray', 'bytes', 'callable', 'chr', 'classmethod', 'compile', 'complex', 'copyright', 'credits', 'delattr', 'dict', 'dir', 'display', 'divmod', 'enumerate', 'eval', 'exec', 'execfile', 'filter', 'float', 'format', 'frozenset', 'get_ipython', 'getattr', 'globals', 'hasattr', 'hash', 'help', 'hex', 'id', 'input', 'int', 'isinstance', 'issubclass', 'iter', 'len', 'license', 'list', 'locals', 'map', 'max', 'memoryview', 'min', 'next', 'object', 'oct', 'open', 'ord', 'pow', 'print', 'property', 'range', 'repr', 'reversed', 'round', 'runfile', 'set', 'setattr', 'slice', 'sorted', 'staticmethod', 'str', 'sum', 'super', 'tuple', 'type', 'vars', 'zip']\n"
     ]
    }
   ],
   "source": [
    "# Builtin Functions name list\n",
    "\n",
    "import builtins\n",
    "\n",
    "builtin_functions: list[str] = [\n",
    "    func for func in dir(builtins) if callable(getattr(builtins, func))\n",
    "]\n",
    "print(builtin_functions)"
   ]
  },
  {
   "cell_type": "code",
   "execution_count": 6,
   "metadata": {},
   "outputs": [
    {
     "name": "stdout",
     "output_type": "stream",
     "text": [
      "5\n",
      "<class 'int'>\n",
      "11689704\n",
      "['__abs__', '__add__', '__and__', '__bool__', '__ceil__', '__class__', '__delattr__', '__dir__', '__divmod__', '__doc__', '__eq__', '__float__', '__floor__', '__floordiv__', '__format__', '__ge__', '__getattribute__', '__getnewargs__', '__getstate__', '__gt__', '__hash__', '__index__', '__init__', '__init_subclass__', '__int__', '__invert__', '__le__', '__lshift__', '__lt__', '__mod__', '__mul__', '__ne__', '__neg__', '__new__', '__or__', '__pos__', '__pow__', '__radd__', '__rand__', '__rdivmod__', '__reduce__', '__reduce_ex__', '__repr__', '__rfloordiv__', '__rlshift__', '__rmod__', '__rmul__', '__ror__', '__round__', '__rpow__', '__rrshift__', '__rshift__', '__rsub__', '__rtruediv__', '__rxor__', '__setattr__', '__sizeof__', '__str__', '__sub__', '__subclasshook__', '__truediv__', '__trunc__', '__xor__', 'as_integer_ratio', 'bit_count', 'bit_length', 'conjugate', 'denominator', 'from_bytes', 'imag', 'is_integer', 'numerator', 'real', 'to_bytes']\n",
      "['as_integer_ratio', 'bit_count', 'bit_length', 'conjugate', 'denominator', 'from_bytes', 'imag', 'is_integer', 'numerator', 'real', 'to_bytes']\n"
     ]
    }
   ],
   "source": [
    "# Defining a variable\n",
    "\n",
    "height: int = 5\n",
    "\n",
    "print(height)\n",
    "print(type(height))\n",
    "print(id(height))\n",
    "print(dir(height))\n",
    "print([i for i in dir(height) if \"__\" not in i])"
   ]
  },
  {
   "cell_type": "markdown",
   "metadata": {},
   "source": [
    "---\n"
   ]
  },
  {
   "cell_type": "markdown",
   "metadata": {},
   "source": [
    "### Strings\n",
    "\n",
    "In Python, strings are sequences of characters, typically used to represent text data. They are immutable, meaning once created, their contents cannot be changed. Strings can be enclosed in either single quotes (') or double quotes (\"), and triple quotes (''' or \"\"\") are used for multiline strings. Python provides a rich set of methods and operations to manipulate and work with strings, including concatenation, slicing, formatting, and searching. Strings support Unicode characters, making Python particularly versatile for handling text data in various languages and encodings.\n"
   ]
  },
  {
   "cell_type": "code",
   "execution_count": 7,
   "metadata": {},
   "outputs": [
    {
     "name": "stdout",
     "output_type": "stream",
     "text": [
      "<class 'str'>\n",
      "Hassan\n",
      "11689704\n",
      "['capitalize', 'casefold', 'center', 'count', 'encode', 'endswith', 'expandtabs', 'find', 'format', 'format_map', 'index', 'isalnum', 'isalpha', 'isascii', 'isdecimal', 'isdigit', 'isidentifier', 'islower', 'isnumeric', 'isprintable', 'isspace', 'istitle', 'isupper', 'join', 'ljust', 'lower', 'lstrip', 'maketrans', 'partition', 'removeprefix', 'removesuffix', 'replace', 'rfind', 'rindex', 'rjust', 'rpartition', 'rsplit', 'rstrip', 'split', 'splitlines', 'startswith', 'strip', 'swapcase', 'title', 'translate', 'upper', 'zfill']\n"
     ]
    }
   ],
   "source": [
    "name: str = \"Hassan\"\n",
    "print(type(name))\n",
    "print(name)\n",
    "print(id(height))\n",
    "print([i for i in dir(name) if \"__\" not in i])"
   ]
  },
  {
   "cell_type": "code",
   "execution_count": 8,
   "metadata": {},
   "outputs": [
    {
     "name": "stdout",
     "output_type": "stream",
     "text": [
      "<class 'str'>\n",
      "Hassan\n"
     ]
    }
   ],
   "source": [
    "name: str = \"Hassan\"\n",
    "print(type(name))\n",
    "print(name)"
   ]
  },
  {
   "cell_type": "code",
   "execution_count": 9,
   "metadata": {},
   "outputs": [
    {
     "name": "stdout",
     "output_type": "stream",
     "text": [
      "<class 'str'>\n",
      "Hassan\n"
     ]
    }
   ],
   "source": [
    "name: str = \"\"\"Hassan\"\"\"\n",
    "print(type(name))\n",
    "print(name)"
   ]
  },
  {
   "cell_type": "code",
   "execution_count": 10,
   "metadata": {},
   "outputs": [
    {
     "name": "stdout",
     "output_type": "stream",
     "text": [
      "<class 'str'>\n",
      "Hassan\n"
     ]
    }
   ],
   "source": [
    "name: str = \"\"\"Hassan\"\"\"\n",
    "print(type(name))\n",
    "print(name)"
   ]
  },
  {
   "cell_type": "markdown",
   "metadata": {},
   "source": [
    "You can also use single quote or double quote in a string\n"
   ]
  },
  {
   "cell_type": "code",
   "execution_count": 11,
   "metadata": {},
   "outputs": [
    {
     "name": "stdout",
     "output_type": "stream",
     "text": [
      "Father's Name : Zaheer\n"
     ]
    }
   ],
   "source": [
    "message: str = \"Father's Name : Zaheer\"\n",
    "print(message)"
   ]
  },
  {
   "cell_type": "code",
   "execution_count": 12,
   "metadata": {},
   "outputs": [
    {
     "name": "stdout",
     "output_type": "stream",
     "text": [
      "Father's Name : Zaheer\n"
     ]
    }
   ],
   "source": [
    "message: str = \"Father's Name : Zaheer\"\n",
    "print(message)"
   ]
  },
  {
   "cell_type": "markdown",
   "metadata": {},
   "source": [
    "**Concatenation**\n"
   ]
  },
  {
   "cell_type": "code",
   "execution_count": 13,
   "metadata": {},
   "outputs": [
    {
     "name": "stdout",
     "output_type": "stream",
     "text": [
      "Hassan Ali Khan\n"
     ]
    }
   ],
   "source": [
    "name: str = \"Hassan \" + \"Ali \" + \"Khan\"\n",
    "print(name)"
   ]
  },
  {
   "cell_type": "code",
   "execution_count": 14,
   "metadata": {},
   "outputs": [
    {
     "name": "stdout",
     "output_type": "stream",
     "text": [
      "Hassan92\n"
     ]
    }
   ],
   "source": [
    "print(\"Hassan\" + str(92))"
   ]
  },
  {
   "cell_type": "markdown",
   "metadata": {},
   "source": [
    "**Why Multiline Strings / triple quotes**\n"
   ]
  },
  {
   "cell_type": "code",
   "execution_count": 15,
   "metadata": {},
   "outputs": [
    {
     "name": "stdout",
     "output_type": "stream",
     "text": [
      "PIAIC Student Card    \n",
      "Student Name: Hassan\n",
      "Father Name: Zaheer\n",
      "Age:30\n",
      "Education:Master's\n"
     ]
    }
   ],
   "source": [
    "# We need work around with type conversion, concatenation, skipping words etc\n",
    "\n",
    "name: str = \"Hassan\"\n",
    "fname: str = \"Zaheer\"\n",
    "education: str = \"Master's\"\n",
    "age: int = 30\n",
    "\n",
    "card: str = (\n",
    "    \"PIAIC Student Card\\\n",
    "    \\nStudent Name: \"\n",
    "    + name\n",
    "    + \"\\nFather Name: \"\n",
    "    + fname\n",
    "    + \"\\nAge:\"\n",
    "    + str(age)\n",
    "    + \"\\nEducation:\"\n",
    "    + education\n",
    ")\n",
    "\n",
    "print(card)"
   ]
  },
  {
   "cell_type": "markdown",
   "metadata": {},
   "source": [
    "**Defining Multiline String**\n"
   ]
  },
  {
   "cell_type": "code",
   "execution_count": 16,
   "metadata": {},
   "outputs": [
    {
     "name": "stdout",
     "output_type": "stream",
     "text": [
      "PIAIC Student Card\n",
      "    \n",
      "    Student Name: ---\n",
      "    Father Name: ---\n",
      "    Age: ---\n",
      "    Education: ---\n",
      "    \n"
     ]
    }
   ],
   "source": [
    "name: str = \"Hassan\"\n",
    "fname: str = \"Zaheer\"\n",
    "education: str = \"Master's\"\n",
    "age: int = 30\n",
    "\n",
    "card: str = \"\"\"PIAIC Student Card\n",
    "    \n",
    "    Student Name: ---\n",
    "    Father Name: ---\n",
    "    Age: ---\n",
    "    Education: ---\n",
    "    \"\"\"\n",
    "\n",
    "print(card)"
   ]
  },
  {
   "cell_type": "code",
   "execution_count": 17,
   "metadata": {},
   "outputs": [
    {
     "name": "stdout",
     "output_type": "stream",
     "text": [
      "PIAIC Student Card\n",
      "    \n",
      "    Student Name: Hassan\n",
      "    Father Name: Zaheer\n",
      "    Age: 30\n",
      "    Education: Master's\n",
      "    \n"
     ]
    }
   ],
   "source": [
    "# F-string in Python\n",
    "\n",
    "name: str = \"Hassan\"\n",
    "fname: str = \"Zaheer\"\n",
    "education: str = \"Master's\"\n",
    "age: int = 30\n",
    "\n",
    "card: str = f\"\"\"PIAIC Student Card\n",
    "    \n",
    "    Student Name: {name}\n",
    "    Father Name: {fname}\n",
    "    Age: {age}\n",
    "    Education: {education}\n",
    "    \"\"\"\n",
    "\n",
    "print(card)"
   ]
  },
  {
   "cell_type": "code",
   "execution_count": 18,
   "metadata": {},
   "outputs": [
    {
     "name": "stdout",
     "output_type": "stream",
     "text": [
      "PIAIC Student Card\n",
      "    \n",
      "    Student Name: Hassan\n",
      "    Father Name: Zaheer\n",
      "    Age: 30\n",
      "    Education: Master's\n",
      "    \n"
     ]
    }
   ],
   "source": [
    "# F-string in Python\n",
    "\n",
    "name: str = \"Hassan\"\n",
    "fname: str = \"Zaheer\"\n",
    "education: str = \"Master's\"\n",
    "age: int = 30\n",
    "\n",
    "card: str = f\"\"\"PIAIC Student Card\n",
    "    \n",
    "    Student Name: {name}\n",
    "    Father Name: {fname}\n",
    "    Age: {age}\n",
    "    Education: {education}\n",
    "    \"\"\"\n",
    "\n",
    "print(card)"
   ]
  },
  {
   "cell_type": "code",
   "execution_count": 19,
   "metadata": {},
   "outputs": [
    {
     "name": "stdout",
     "output_type": "stream",
     "text": [
      "PIAIC Student Card\n",
      "    \n",
      "    Student Name: Hassan\n",
      "    Father Name: Zaheer\n",
      "    Age: 30\n",
      "    Education: Master's\n",
      "    \n"
     ]
    }
   ],
   "source": [
    "# jinja style in Python\n",
    "\n",
    "name: str = \"Hassan\"\n",
    "fname: str = \"Zaheer\"\n",
    "education: str = \"Master's\"\n",
    "age: int = 30\n",
    "\n",
    "card: str = (\n",
    "    f\"\"\"PIAIC Student Card\n",
    "    \n",
    "    Student Name: %s\n",
    "    Father Name: %s\n",
    "    Age: %d\n",
    "    Education: %s\n",
    "    \"\"\"\n",
    "    % (name, fname, age, education)\n",
    ")\n",
    "\n",
    "print(card)"
   ]
  },
  {
   "cell_type": "markdown",
   "metadata": {},
   "source": [
    "**escape characters**\n"
   ]
  },
  {
   "cell_type": "code",
   "execution_count": 20,
   "metadata": {},
   "outputs": [
    {
     "name": "stdout",
     "output_type": "stream",
     "text": [
      "Hello\n",
      "world\n"
     ]
    }
   ],
   "source": [
    "print(\"Hello\\nworld\")"
   ]
  },
  {
   "cell_type": "code",
   "execution_count": 21,
   "metadata": {},
   "outputs": [
    {
     "name": "stdout",
     "output_type": "stream",
     "text": [
      "Hello\tworld\n"
     ]
    }
   ],
   "source": [
    "print(\"Hello\\tworld\")"
   ]
  },
  {
   "cell_type": "code",
   "execution_count": 22,
   "metadata": {},
   "outputs": [
    {
     "name": "stdout",
     "output_type": "stream",
     "text": [
      "Hellworld\n"
     ]
    }
   ],
   "source": [
    "print(\"Hello\\bworld\")"
   ]
  },
  {
   "cell_type": "markdown",
   "metadata": {},
   "source": [
    "**String Methods**\n"
   ]
  },
  {
   "cell_type": "code",
   "execution_count": 23,
   "metadata": {},
   "outputs": [
    {
     "data": {
      "text/plain": [
       "['capitalize',\n",
       " 'casefold',\n",
       " 'center',\n",
       " 'count',\n",
       " 'encode',\n",
       " 'endswith',\n",
       " 'expandtabs',\n",
       " 'find',\n",
       " 'format',\n",
       " 'format_map',\n",
       " 'index',\n",
       " 'isalnum',\n",
       " 'isalpha',\n",
       " 'isascii',\n",
       " 'isdecimal',\n",
       " 'isdigit',\n",
       " 'isidentifier',\n",
       " 'islower',\n",
       " 'isnumeric',\n",
       " 'isprintable',\n",
       " 'isspace',\n",
       " 'istitle',\n",
       " 'isupper',\n",
       " 'join',\n",
       " 'ljust',\n",
       " 'lower',\n",
       " 'lstrip',\n",
       " 'maketrans',\n",
       " 'partition',\n",
       " 'removeprefix',\n",
       " 'removesuffix',\n",
       " 'replace',\n",
       " 'rfind',\n",
       " 'rindex',\n",
       " 'rjust',\n",
       " 'rpartition',\n",
       " 'rsplit',\n",
       " 'rstrip',\n",
       " 'split',\n",
       " 'splitlines',\n",
       " 'startswith',\n",
       " 'strip',\n",
       " 'swapcase',\n",
       " 'title',\n",
       " 'translate',\n",
       " 'upper',\n",
       " 'zfill']"
      ]
     },
     "execution_count": 23,
     "metadata": {},
     "output_type": "execute_result"
    }
   ],
   "source": [
    "[i for i in dir(str) if \"__\" not in i]"
   ]
  },
  {
   "cell_type": "code",
   "execution_count": 24,
   "metadata": {},
   "outputs": [
    {
     "name": "stdout",
     "output_type": "stream",
     "text": [
      "Hello world\n"
     ]
    }
   ],
   "source": [
    "# capitalize: Converts the first character to uppercase\n",
    "text: str = \"hello world\"\n",
    "print(text.capitalize())"
   ]
  },
  {
   "cell_type": "code",
   "execution_count": 25,
   "metadata": {},
   "outputs": [
    {
     "name": "stdout",
     "output_type": "stream",
     "text": [
      "hello world\n"
     ]
    }
   ],
   "source": [
    "# casefold: Converts string into lowercase\n",
    "text: str = \"HELLO World\"\n",
    "print(text.casefold())"
   ]
  },
  {
   "cell_type": "code",
   "execution_count": 26,
   "metadata": {},
   "outputs": [
    {
     "name": "stdout",
     "output_type": "stream",
     "text": [
      "*hello**\n"
     ]
    }
   ],
   "source": [
    "# center: Returns a centered string\n",
    "text: str = \"hello\"\n",
    "print(text.center(8, \"*\"))"
   ]
  },
  {
   "cell_type": "code",
   "execution_count": 27,
   "metadata": {},
   "outputs": [
    {
     "name": "stdout",
     "output_type": "stream",
     "text": [
      "2\n"
     ]
    }
   ],
   "source": [
    "# count: Returns the number of occurrences of a substring\n",
    "text: str = \"hello world\"\n",
    "print(text.count(\"o\"))"
   ]
  },
  {
   "cell_type": "code",
   "execution_count": 28,
   "metadata": {},
   "outputs": [
    {
     "name": "stdout",
     "output_type": "stream",
     "text": [
      "b'hello'\n"
     ]
    }
   ],
   "source": [
    "# encode: Returns the encoded version of the string\n",
    "text: str = \"hello\"\n",
    "print(text.encode())"
   ]
  },
  {
   "cell_type": "code",
   "execution_count": 29,
   "metadata": {},
   "outputs": [
    {
     "name": "stdout",
     "output_type": "stream",
     "text": [
      "True\n"
     ]
    }
   ],
   "source": [
    "# endswith: Checks if a string ends with a specified suffix\n",
    "text: str = \"hello world\"\n",
    "print(text.endswith(\"world\"))"
   ]
  },
  {
   "cell_type": "code",
   "execution_count": 30,
   "metadata": {},
   "outputs": [
    {
     "name": "stdout",
     "output_type": "stream",
     "text": [
      "hello               world\n"
     ]
    }
   ],
   "source": [
    "# expandtabs: Sets the tab size of the string\n",
    "text: str = \"hello\\tworld\"\n",
    "print(text.expandtabs(20))"
   ]
  },
  {
   "cell_type": "code",
   "execution_count": 31,
   "metadata": {},
   "outputs": [
    {
     "name": "stdout",
     "output_type": "stream",
     "text": [
      "6\n"
     ]
    }
   ],
   "source": [
    "# find: Searches the string for a specified value and returns the position of where it was found\n",
    "text: str = \"hello world\"\n",
    "print(text.find(\"world\"))"
   ]
  },
  {
   "cell_type": "code",
   "execution_count": 32,
   "metadata": {},
   "outputs": [
    {
     "name": "stdout",
     "output_type": "stream",
     "text": [
      "My name is John and I am 30 years old.\n"
     ]
    }
   ],
   "source": [
    "# format: Formats the string\n",
    "name: str = \"John\"\n",
    "age: int = 30\n",
    "print(\"My name is {} and I am {} years old.\".format(name, age))"
   ]
  },
  {
   "cell_type": "code",
   "execution_count": 33,
   "metadata": {},
   "outputs": [
    {
     "name": "stdout",
     "output_type": "stream",
     "text": [
      "My name is John and I am 30 years old.\n"
     ]
    }
   ],
   "source": [
    "# format: Formats the string\n",
    "name: str = \"John\"\n",
    "age: int = 30\n",
    "print(\"My name is {0} and I am {1} years old.\".format(name, age))"
   ]
  },
  {
   "cell_type": "code",
   "execution_count": 34,
   "metadata": {},
   "outputs": [
    {
     "name": "stdout",
     "output_type": "stream",
     "text": [
      "My name is John and I am 30 years old.\n"
     ]
    }
   ],
   "source": [
    "# format: Formats the string\n",
    "name: str = \"John\"\n",
    "age: int = 30\n",
    "print(\"My name is {a} and I am {b} years old.\".format(a=name, b=age))"
   ]
  },
  {
   "cell_type": "code",
   "execution_count": 35,
   "metadata": {},
   "outputs": [
    {
     "name": "stdout",
     "output_type": "stream",
     "text": [
      "My name is John and I am 30 years old.\n"
     ]
    }
   ],
   "source": [
    "# format_map: Formats the string using a mapping\n",
    "person: dict[str:any] = {\"name\": \"John\", \"age\": 30}\n",
    "print(\"My name is {name} and I am {age} years old.\".format_map(person))"
   ]
  },
  {
   "cell_type": "code",
   "execution_count": 36,
   "metadata": {},
   "outputs": [
    {
     "name": "stdout",
     "output_type": "stream",
     "text": [
      "6\n"
     ]
    }
   ],
   "source": [
    "# index: Searches the string for a specified value and returns the position of where it was found\n",
    "text: str = \"hello world\"\n",
    "print(text.index(\"world\"))"
   ]
  },
  {
   "cell_type": "code",
   "execution_count": 37,
   "metadata": {},
   "outputs": [
    {
     "name": "stdout",
     "output_type": "stream",
     "text": [
      "True\n"
     ]
    }
   ],
   "source": [
    "# isalnum: Checks if all characters are alphanumeric\n",
    "text: str = \"hello123\"\n",
    "print(text.isalnum())"
   ]
  },
  {
   "cell_type": "code",
   "execution_count": 38,
   "metadata": {},
   "outputs": [
    {
     "name": "stdout",
     "output_type": "stream",
     "text": [
      "True\n"
     ]
    }
   ],
   "source": [
    "# isalpha: Checks if all characters are alphabetic\n",
    "text: str = \"hello\"\n",
    "print(text.isalpha())"
   ]
  },
  {
   "cell_type": "code",
   "execution_count": 39,
   "metadata": {},
   "outputs": [
    {
     "name": "stdout",
     "output_type": "stream",
     "text": [
      "True\n"
     ]
    }
   ],
   "source": [
    "# isascii: Checks if all characters are ASCII\n",
    "text: str = \"hello\"\n",
    "print(text.isascii())"
   ]
  },
  {
   "cell_type": "code",
   "execution_count": 40,
   "metadata": {},
   "outputs": [
    {
     "name": "stdout",
     "output_type": "stream",
     "text": [
      "True\n"
     ]
    }
   ],
   "source": [
    "# isdecimal: Checks if all characters are decimals\n",
    "text: str = \"123\"\n",
    "print(text.isdecimal())"
   ]
  },
  {
   "cell_type": "code",
   "execution_count": 41,
   "metadata": {},
   "outputs": [
    {
     "name": "stdout",
     "output_type": "stream",
     "text": [
      "True\n"
     ]
    }
   ],
   "source": [
    "# isdigit: Checks if all characters are digits\n",
    "text: str = \"123\"\n",
    "print(text.isdigit())"
   ]
  },
  {
   "cell_type": "code",
   "execution_count": 42,
   "metadata": {},
   "outputs": [
    {
     "name": "stdout",
     "output_type": "stream",
     "text": [
      "True\n"
     ]
    }
   ],
   "source": [
    "# isidentifier: Checks if the string is a valid identifier\n",
    "text: str = \"print\"\n",
    "print(text.isidentifier())"
   ]
  },
  {
   "cell_type": "code",
   "execution_count": 43,
   "metadata": {},
   "outputs": [
    {
     "name": "stdout",
     "output_type": "stream",
     "text": [
      "False\n"
     ]
    }
   ],
   "source": [
    "# islower: Checks if all characters are lowercase\n",
    "text: str = \"heLlo\"\n",
    "print(text.islower())"
   ]
  },
  {
   "cell_type": "code",
   "execution_count": 44,
   "metadata": {},
   "outputs": [
    {
     "name": "stdout",
     "output_type": "stream",
     "text": [
      "True\n"
     ]
    }
   ],
   "source": [
    "# isnumeric: Checks if all characters are numeric\n",
    "text: str = \"123\"\n",
    "print(text.isnumeric())"
   ]
  },
  {
   "cell_type": "code",
   "execution_count": 45,
   "metadata": {},
   "outputs": [
    {
     "name": "stdout",
     "output_type": "stream",
     "text": [
      "True\n"
     ]
    }
   ],
   "source": [
    "# isprintable: Checks if all characters are printable\n",
    "text: str = \"hello\"\n",
    "print(text.isprintable())"
   ]
  },
  {
   "cell_type": "code",
   "execution_count": 46,
   "metadata": {},
   "outputs": [
    {
     "name": "stdout",
     "output_type": "stream",
     "text": [
      "True\n"
     ]
    }
   ],
   "source": [
    "# isspace: Checks if all characters are whitespaces\n",
    "text: str = \"   \"\n",
    "print(text.isspace())"
   ]
  },
  {
   "cell_type": "code",
   "execution_count": 47,
   "metadata": {},
   "outputs": [
    {
     "name": "stdout",
     "output_type": "stream",
     "text": [
      "True\n"
     ]
    }
   ],
   "source": [
    "# istitle: Checks if the string follows the rules of a title\n",
    "text: str = \"Hello Wurld\"\n",
    "print(text.istitle())"
   ]
  },
  {
   "cell_type": "code",
   "execution_count": 48,
   "metadata": {},
   "outputs": [
    {
     "name": "stdout",
     "output_type": "stream",
     "text": [
      "False\n"
     ]
    }
   ],
   "source": [
    "# isupper: Checks if all characters are uppercase\n",
    "text: str = \"HELlO\"\n",
    "print(text.isupper())"
   ]
  },
  {
   "cell_type": "code",
   "execution_count": 49,
   "metadata": {},
   "outputs": [
    {
     "name": "stdout",
     "output_type": "stream",
     "text": [
      "hello-world-from-Hassan\n"
     ]
    }
   ],
   "source": [
    "# join: Joins the elements of an iterable to create a string\n",
    "words: list[str] = [\"hello\", \"world\", \"from\", \"Hassan\"]\n",
    "print(\"-\".join(words))"
   ]
  },
  {
   "cell_type": "code",
   "execution_count": 50,
   "metadata": {},
   "outputs": [
    {
     "name": "stdout",
     "output_type": "stream",
     "text": [
      "hello*****\n"
     ]
    }
   ],
   "source": [
    "# ljust: Returns a left-justified string\n",
    "text: str = \"hello\"\n",
    "print(text.ljust(10, \"*\"))"
   ]
  },
  {
   "cell_type": "code",
   "execution_count": null,
   "metadata": {},
   "outputs": [],
   "source": [
    "# lower: Converts string into lowercase\n",
    "text = \"HELLO\"\n",
    "print(text.lower())"
   ]
  },
  {
   "cell_type": "code",
   "execution_count": 51,
   "metadata": {},
   "outputs": [
    {
     "name": "stdout",
     "output_type": "stream",
     "text": [
      "   hello   \n",
      "hello   \n"
     ]
    }
   ],
   "source": [
    "# lstrip: Removes leading characters\n",
    "text: str = \"   hello   \"\n",
    "print(text)\n",
    "print(text.lstrip())"
   ]
  },
  {
   "cell_type": "code",
   "execution_count": 52,
   "metadata": {},
   "outputs": [
    {
     "name": "stdout",
     "output_type": "stream",
     "text": [
      "h2ll4\n"
     ]
    }
   ],
   "source": [
    "# maketrans: Returns a translation table to be used in translate function\n",
    "intab: str = \"aeiou\"\n",
    "outtab: str = \"12345\"\n",
    "trans = str.maketrans(intab, outtab)\n",
    "text: str = \"hello\"\n",
    "print(text.translate(trans))"
   ]
  },
  {
   "cell_type": "code",
   "execution_count": 53,
   "metadata": {},
   "outputs": [
    {
     "name": "stdout",
     "output_type": "stream",
     "text": [
      "('hell', 'o', ' world')\n"
     ]
    }
   ],
   "source": [
    "# partition: Returns a tuple where the string is parted into three parts\n",
    "text: str = \"hello world\"\n",
    "print(text.partition(\"o\"))"
   ]
  },
  {
   "cell_type": "code",
   "execution_count": 54,
   "metadata": {},
   "outputs": [
    {
     "name": "stdout",
     "output_type": "stream",
     "text": [
      "world\n"
     ]
    }
   ],
   "source": [
    "# removeprefix: Removes a prefix from the string\n",
    "text: str = \"hello world\"\n",
    "print(text.removeprefix(\"hello \"))"
   ]
  },
  {
   "cell_type": "code",
   "execution_count": 55,
   "metadata": {},
   "outputs": [
    {
     "name": "stdout",
     "output_type": "stream",
     "text": [
      "hello\n"
     ]
    }
   ],
   "source": [
    "# removesuffix: Removes a suffix from the string\n",
    "text: str = \"hello world\"\n",
    "print(text.removesuffix(\" world\"))"
   ]
  },
  {
   "cell_type": "code",
   "execution_count": 56,
   "metadata": {},
   "outputs": [
    {
     "name": "stdout",
     "output_type": "stream",
     "text": [
      "hello universe\n"
     ]
    }
   ],
   "source": [
    "# replace: Replaces a specified substring with another substring\n",
    "text: str = \"hello world\"\n",
    "print(text.replace(\"world\", \"universe\"))"
   ]
  },
  {
   "cell_type": "code",
   "execution_count": 57,
   "metadata": {},
   "outputs": [
    {
     "name": "stdout",
     "output_type": "stream",
     "text": [
      "12\n"
     ]
    }
   ],
   "source": [
    "# rfind: Searches the string for a specified value and returns the last position of where it was found\n",
    "text: str = \"hello world hello\"\n",
    "print(text.rfind(\"hello\"))"
   ]
  },
  {
   "cell_type": "code",
   "execution_count": 58,
   "metadata": {},
   "outputs": [
    {
     "name": "stdout",
     "output_type": "stream",
     "text": [
      "*****hello\n"
     ]
    }
   ],
   "source": [
    "# rjust: Returns a right-justified string\n",
    "text: str = \"hello\"\n",
    "print(text.rjust(10, \"*\"))"
   ]
  },
  {
   "cell_type": "code",
   "execution_count": 59,
   "metadata": {},
   "outputs": [
    {
     "name": "stdout",
     "output_type": "stream",
     "text": [
      "('hello w', 'o', 'rld')\n"
     ]
    }
   ],
   "source": [
    "# rpartition: Returns a tuple where the string is parted into three parts, starting from the right\n",
    "text: str = \"hello world\"\n",
    "print(text.rpartition(\"o\"))"
   ]
  },
  {
   "cell_type": "code",
   "execution_count": 60,
   "metadata": {},
   "outputs": [
    {
     "name": "stdout",
     "output_type": "stream",
     "text": [
      "['hell', ' w', 'rld']\n"
     ]
    }
   ],
   "source": [
    "# rsplit: Splits the string at the specified separator, starting from the right\n",
    "text: str = \"hello world\"\n",
    "print(text.rsplit(\"o\"))"
   ]
  },
  {
   "cell_type": "code",
   "execution_count": 61,
   "metadata": {},
   "outputs": [
    {
     "name": "stdout",
     "output_type": "stream",
     "text": [
      "   hello\n"
     ]
    }
   ],
   "source": [
    "# rstrip: Removes trailing characters\n",
    "text: str = \"   hello   \"\n",
    "print(text.rstrip())"
   ]
  },
  {
   "cell_type": "code",
   "execution_count": null,
   "metadata": {},
   "outputs": [],
   "source": [
    "# split: Splits the string at the specified separator\n",
    "text = \"hello world\"\n",
    "print(text.split(\" \"))"
   ]
  },
  {
   "cell_type": "code",
   "execution_count": 62,
   "metadata": {},
   "outputs": [
    {
     "name": "stdout",
     "output_type": "stream",
     "text": [
      "hello\n",
      "world\n",
      "['hello', 'world']\n"
     ]
    }
   ],
   "source": [
    "# splitlines: Splits the string at line breaks\n",
    "text: str = \"hello\\nworld\"\n",
    "print(text)\n",
    "print(text.splitlines())"
   ]
  },
  {
   "cell_type": "code",
   "execution_count": 63,
   "metadata": {},
   "outputs": [
    {
     "name": "stdout",
     "output_type": "stream",
     "text": [
      "True\n"
     ]
    }
   ],
   "source": [
    "# startswith: Checks if a string starts with a specified prefix\n",
    "text: str = \"hello world\"\n",
    "print(text.startswith(\"hello\"))"
   ]
  },
  {
   "cell_type": "code",
   "execution_count": 64,
   "metadata": {},
   "outputs": [
    {
     "name": "stdout",
     "output_type": "stream",
     "text": [
      "hello\n"
     ]
    }
   ],
   "source": [
    "# strip: Removes leading and trailing characters\n",
    "text: str = \"   hello   \"\n",
    "print(text.strip())"
   ]
  },
  {
   "cell_type": "code",
   "execution_count": 65,
   "metadata": {},
   "outputs": [
    {
     "name": "stdout",
     "output_type": "stream",
     "text": [
      "hELLO wORLD\n"
     ]
    }
   ],
   "source": [
    "# swapcase: Swaps cases, lower case becomes upper case and vice versa\n",
    "text: str = \"Hello World\"\n",
    "print(text.swapcase())"
   ]
  },
  {
   "cell_type": "code",
   "execution_count": 66,
   "metadata": {},
   "outputs": [
    {
     "name": "stdout",
     "output_type": "stream",
     "text": [
      "Hello World\n"
     ]
    }
   ],
   "source": [
    "# title: Converts the first character of each word to uppercase\n",
    "text: str = \"hello world\"\n",
    "print(text.title())"
   ]
  },
  {
   "cell_type": "code",
   "execution_count": 67,
   "metadata": {},
   "outputs": [
    {
     "name": "stdout",
     "output_type": "stream",
     "text": [
      "h2ll-\n"
     ]
    }
   ],
   "source": [
    "# translate: Returns a translated string\n",
    "intab: str = \"aeiou\"\n",
    "outtab: str = \"123-5\"\n",
    "trans = str.maketrans(intab, outtab)\n",
    "text: str = \"hello\"\n",
    "print(text.translate(trans))"
   ]
  },
  {
   "cell_type": "code",
   "execution_count": 68,
   "metadata": {},
   "outputs": [
    {
     "name": "stdout",
     "output_type": "stream",
     "text": [
      "HELLO\n"
     ]
    }
   ],
   "source": [
    "# upper: Converts string into uppercase\n",
    "text: str = \"hello\"\n",
    "print(text.upper())"
   ]
  },
  {
   "cell_type": "code",
   "execution_count": 69,
   "metadata": {},
   "outputs": [
    {
     "name": "stdout",
     "output_type": "stream",
     "text": [
      "00042\n"
     ]
    }
   ],
   "source": [
    "# zfill: Fills the string with a specified number of 0 values at the beginning\n",
    "text: str = \"42\"\n",
    "print(text.zfill(5))"
   ]
  },
  {
   "cell_type": "markdown",
   "metadata": {},
   "source": [
    "---\n"
   ]
  }
 ],
 "metadata": {
  "kernelspec": {
   "display_name": "comments_variables_strings",
   "language": "python",
   "name": "comments_variables_strings"
  },
  "language_info": {
   "codemirror_mode": {
    "name": "ipython",
    "version": 3
   },
   "file_extension": ".py",
   "mimetype": "text/x-python",
   "name": "python",
   "nbconvert_exporter": "python",
   "pygments_lexer": "ipython3",
   "version": "3.12.2"
  }
 },
 "nbformat": 4,
 "nbformat_minor": 2
}
