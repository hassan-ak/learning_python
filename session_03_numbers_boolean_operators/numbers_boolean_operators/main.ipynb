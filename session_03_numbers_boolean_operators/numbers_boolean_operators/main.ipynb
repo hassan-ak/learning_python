{
 "cells": [
  {
   "cell_type": "markdown",
   "metadata": {},
   "source": [
    "# Numbers, Boolean and Operators in Python\n"
   ]
  },
  {
   "cell_type": "markdown",
   "metadata": {},
   "source": [
    "---\n"
   ]
  },
  {
   "cell_type": "markdown",
   "metadata": {},
   "source": [
    "## Numbers\n",
    "\n",
    "`Numbers` in Python come in two main flavors: integers (whole numbers) and floats (decimal numbers). You can perform various mathematical operations like addition, subtraction, multiplication, and division with them. Python also supports complex numbers for advanced calculations. Remember, numbers are essential building blocks for many programming tasks, so understanding how to work with them efficiently is key!\n"
   ]
  },
  {
   "cell_type": "markdown",
   "metadata": {},
   "source": [
    "### Integers\n",
    "\n",
    "Integers in Python are whole numbers without any decimal point. They can be positive, negative, or zero. Unlike some other programming languages, Python has arbitrary precision integers, meaning integers can be arbitrarily large without causing overflow errors. This makes Python suitable for tasks involving large integers, such as cryptography and mathematical computations.\n"
   ]
  },
  {
   "cell_type": "code",
   "execution_count": 1,
   "metadata": {},
   "outputs": [
    {
     "name": "stdout",
     "output_type": "stream",
     "text": [
      "20\n",
      "<class 'int'>\n"
     ]
    }
   ],
   "source": [
    "# Integers\n",
    "\n",
    "age: int = 20\n",
    "print(age)\n",
    "print(type(age))"
   ]
  },
  {
   "cell_type": "code",
   "execution_count": 2,
   "metadata": {},
   "outputs": [
    {
     "name": "stdout",
     "output_type": "stream",
     "text": [
      "14000000000\n"
     ]
    }
   ],
   "source": [
    "# underscores in numbers\n",
    "universe_age: int = 14_000_000_000\n",
    "print(universe_age)"
   ]
  },
  {
   "cell_type": "code",
   "execution_count": 3,
   "metadata": {},
   "outputs": [
    {
     "data": {
      "text/plain": [
       "['as_integer_ratio',\n",
       " 'bit_count',\n",
       " 'bit_length',\n",
       " 'conjugate',\n",
       " 'denominator',\n",
       " 'from_bytes',\n",
       " 'imag',\n",
       " 'is_integer',\n",
       " 'numerator',\n",
       " 'real',\n",
       " 'to_bytes']"
      ]
     },
     "execution_count": 3,
     "metadata": {},
     "output_type": "execute_result"
    }
   ],
   "source": [
    "# methods of integers\n",
    "[i for i in dir(int) if \"__\" not in i]"
   ]
  },
  {
   "cell_type": "code",
   "execution_count": 4,
   "metadata": {},
   "outputs": [
    {
     "name": "stdout",
     "output_type": "stream",
     "text": [
      "Number of set bits in 42 : 3\n"
     ]
    }
   ],
   "source": [
    "# bit_count() - Returns the number of set bits in the binary representation of the integer.\n",
    "\n",
    "x: int = 42\n",
    "count: int = x.bit_count()\n",
    "print(\"Number of set bits in\", x, \":\", count)"
   ]
  },
  {
   "cell_type": "code",
   "execution_count": 5,
   "metadata": {},
   "outputs": [
    {
     "name": "stdout",
     "output_type": "stream",
     "text": [
      "Bit length of 42 : 6\n"
     ]
    }
   ],
   "source": [
    "# `bit_length()` - Returns the number of bits necessary to represent the integer in binary, excluding the sign and leading zeros.\n",
    "\n",
    "x: int = 42\n",
    "length: int = x.bit_length()\n",
    "print(\"Bit length of\", x, \":\", length)"
   ]
  },
  {
   "cell_type": "code",
   "execution_count": 6,
   "metadata": {},
   "outputs": [
    {
     "name": "stdout",
     "output_type": "stream",
     "text": [
      "8 is an integer? True\n"
     ]
    }
   ],
   "source": [
    "# is_integer() - Returns True if the integer is finite with no fractional part, else False.\n",
    "\n",
    "x: int = 8\n",
    "is_int: bool = x.is_integer()\n",
    "print(x, \"is an integer?\", is_int)"
   ]
  },
  {
   "cell_type": "code",
   "execution_count": 7,
   "metadata": {},
   "outputs": [
    {
     "name": "stdout",
     "output_type": "stream",
     "text": [
      "Denominator of 15 : 1\n"
     ]
    }
   ],
   "source": [
    "# denominator() - Returns the denominator of the integer\n",
    "\n",
    "x: int = 15\n",
    "denom: int = x.denominator\n",
    "print(\"Denominator of\", x, \":\", denom)"
   ]
  },
  {
   "cell_type": "code",
   "execution_count": 8,
   "metadata": {},
   "outputs": [
    {
     "name": "stdout",
     "output_type": "stream",
     "text": [
      "Numerator of 25 : 25\n"
     ]
    }
   ],
   "source": [
    "# numerator() - Returns the numerator of the integer.\n",
    "\n",
    "x: int = 25\n",
    "num: int = x.numerator\n",
    "print(\"Numerator of\", x, \":\", num)"
   ]
  },
  {
   "cell_type": "code",
   "execution_count": 9,
   "metadata": {},
   "outputs": [
    {
     "name": "stdout",
     "output_type": "stream",
     "text": [
      "Integer value from bytes: 10\n"
     ]
    }
   ],
   "source": [
    "# from_bytes() - Creates an integer from the given bytes object and byte order.\n",
    "\n",
    "bytes_obj: bytes = b\"\\x00\\x0A\"\n",
    "int_val = int.from_bytes(bytes_obj, byteorder=\"big\")\n",
    "print(\"Integer value from bytes:\", int_val)"
   ]
  },
  {
   "cell_type": "code",
   "execution_count": 10,
   "metadata": {},
   "outputs": [
    {
     "name": "stdout",
     "output_type": "stream",
     "text": [
      "Bytes representation of 1255 : b'\\x04\\xe7'\n"
     ]
    }
   ],
   "source": [
    "# to_bytes() - Returns the bytes representation of the integer.\n",
    "\n",
    "x: int = 1255\n",
    "bytes_rep: bytes = x.to_bytes(2, byteorder=\"big\")\n",
    "print(\"Bytes representation of\", x, \":\", bytes_rep)"
   ]
  },
  {
   "cell_type": "markdown",
   "metadata": {},
   "source": [
    "### Float\n",
    "\n",
    "Floats in Python represent real numbers with a decimal point. They are used to store and manipulate numerical data that requires fractional or decimal values. Python's float type conforms to the IEEE 754 standard for floating-point arithmetic, providing a balance between precision and range. However, due to the limitations of binary representation, floats in Python may exhibit rounding errors when dealing with certain decimal values. It's essential to be aware of these limitations when working with floats, especially in critical applications like financial calculations or scientific computations. Python provides various built-in functions and methods for performing arithmetic operations, comparisons, and conversions with floats. Understanding the behavior of floats and how to handle precision and rounding issues is crucial for writing robust and accurate Python programs involving numerical computations.\"\n"
   ]
  },
  {
   "cell_type": "code",
   "execution_count": 11,
   "metadata": {},
   "outputs": [
    {
     "name": "stdout",
     "output_type": "stream",
     "text": [
      "20.5\n",
      "<class 'float'>\n"
     ]
    }
   ],
   "source": [
    "# Float\n",
    "\n",
    "age: float = 20.5\n",
    "print(age)\n",
    "print(type(age))"
   ]
  },
  {
   "cell_type": "code",
   "execution_count": 12,
   "metadata": {},
   "outputs": [
    {
     "data": {
      "text/plain": [
       "['as_integer_ratio',\n",
       " 'conjugate',\n",
       " 'fromhex',\n",
       " 'hex',\n",
       " 'imag',\n",
       " 'is_integer',\n",
       " 'real']"
      ]
     },
     "execution_count": 12,
     "metadata": {},
     "output_type": "execute_result"
    }
   ],
   "source": [
    "# methods of floats\n",
    "[i for i in dir(float) if \"__\" not in i]"
   ]
  },
  {
   "cell_type": "code",
   "execution_count": 13,
   "metadata": {},
   "outputs": [
    {
     "name": "stdout",
     "output_type": "stream",
     "text": [
      "Ratio of 10.25 : (41, 4)\n"
     ]
    }
   ],
   "source": [
    "# as_integer_ratio() - Returns a tuple representing the integer as a ratio of two integers.\n",
    "\n",
    "x: float = 10.25\n",
    "ratio: tuple[int, int] = x.as_integer_ratio()\n",
    "print(\"Ratio of\", x, \":\", ratio)"
   ]
  },
  {
   "cell_type": "code",
   "execution_count": 14,
   "metadata": {},
   "outputs": [
    {
     "name": "stdout",
     "output_type": "stream",
     "text": [
      "8.5 is an integer? False\n"
     ]
    }
   ],
   "source": [
    "# is_integer() - Returns True if the integer is finite with no fractional part, else False.\n",
    "\n",
    "x: float = 8.5\n",
    "is_int: bool = x.is_integer()\n",
    "print(x, \"is an integer?\", is_int)"
   ]
  },
  {
   "cell_type": "code",
   "execution_count": 15,
   "metadata": {},
   "outputs": [
    {
     "name": "stdout",
     "output_type": "stream",
     "text": [
      "Float value: 10.24\n"
     ]
    }
   ],
   "source": [
    "# Creating a float from a hexadecimal string\n",
    "hex_string: str = \"0x1.47ae147ae147bp+3\"\n",
    "float_value: float = float.fromhex(hex_string)\n",
    "print(\"Float value:\", float_value)"
   ]
  },
  {
   "cell_type": "code",
   "execution_count": 16,
   "metadata": {},
   "outputs": [
    {
     "name": "stdout",
     "output_type": "stream",
     "text": [
      "Float value: 0x1.4800000000000p+3\n"
     ]
    }
   ],
   "source": [
    "# Creating a hexadecimal string from a float\n",
    "float_value: float = 10.25\n",
    "hex_string: str = float.hex(float_value)\n",
    "print(\"Float value:\", hex_string)"
   ]
  },
  {
   "cell_type": "markdown",
   "metadata": {},
   "source": [
    "### Complex Numbers\n",
    "\n",
    "Complex numbers in Python extend the traditional real number system by introducing the concept of an imaginary unit, denoted by \\(i\\). These numbers take the form \\(a + bi\\), where \\(a\\) and \\(b\\) are real numbers, and \\(i\\) represents the square root of -1. In Python, complex numbers are represented using the `complex()` constructor or by directly specifying the real and imaginary parts. They are widely used in various fields such as engineering, physics, and signal processing to model systems with both real and imaginary components. Python provides robust support for arithmetic operations, trigonometric functions, and conversions involving complex numbers, making it a versatile tool for mathematical and scientific computations involving complex phenomena. Understanding how to work with complex numbers in Python is essential for tackling a wide range of mathematical problems effectively.\n"
   ]
  },
  {
   "cell_type": "code",
   "execution_count": 17,
   "metadata": {},
   "outputs": [
    {
     "name": "stdout",
     "output_type": "stream",
     "text": [
      "(3+4j)\n",
      "<class 'complex'>\n"
     ]
    }
   ],
   "source": [
    "# complex numbers\n",
    "\n",
    "z1: complex = 3 + 4j\n",
    "print(z1)\n",
    "print(type(z1))"
   ]
  },
  {
   "cell_type": "code",
   "execution_count": 18,
   "metadata": {},
   "outputs": [
    {
     "name": "stdout",
     "output_type": "stream",
     "text": [
      "(2-5j)\n",
      "<class 'complex'>\n"
     ]
    }
   ],
   "source": [
    "# complex numbers\n",
    "\n",
    "z1: complex = complex(2, -5)\n",
    "print(z1)\n",
    "print(type(z1))"
   ]
  },
  {
   "cell_type": "code",
   "execution_count": 19,
   "metadata": {},
   "outputs": [
    {
     "data": {
      "text/plain": [
       "['conjugate', 'imag', 'real']"
      ]
     },
     "execution_count": 19,
     "metadata": {},
     "output_type": "execute_result"
    }
   ],
   "source": [
    "# methods of complex numbers\n",
    "[i for i in dir(complex) if \"__\" not in i]"
   ]
  },
  {
   "cell_type": "code",
   "execution_count": 20,
   "metadata": {},
   "outputs": [
    {
     "name": "stdout",
     "output_type": "stream",
     "text": [
      "Conjugate of (2-5j) : (2+5j)\n"
     ]
    }
   ],
   "source": [
    "# conjugate() - Returns the complex conjugate of the number.\n",
    "\n",
    "x: complex = complex(2, -5)\n",
    "conjugate: complex = x.conjugate()\n",
    "print(\"Conjugate of\", x, \":\", conjugate)"
   ]
  },
  {
   "cell_type": "code",
   "execution_count": 21,
   "metadata": {},
   "outputs": [
    {
     "name": "stdout",
     "output_type": "stream",
     "text": [
      "Imaginary part of (7+8j) : 8.0\n"
     ]
    }
   ],
   "source": [
    "# imag() - Returns the imaginary part of the number.\n",
    "\n",
    "x: complex = 7 + 8j\n",
    "imag_part: float = x.imag\n",
    "print(\"Imaginary part of\", x, \":\", imag_part)"
   ]
  },
  {
   "cell_type": "code",
   "execution_count": 22,
   "metadata": {},
   "outputs": [
    {
     "name": "stdout",
     "output_type": "stream",
     "text": [
      "real part of (7+8j) : 7.0\n"
     ]
    }
   ],
   "source": [
    "# real() - Returns the real part of the number.\n",
    "\n",
    "x: complex = 7 + 8j\n",
    "real_part: float = x.real\n",
    "print(\"real part of\", x, \":\", real_part)"
   ]
  },
  {
   "cell_type": "markdown",
   "metadata": {},
   "source": [
    "---\n"
   ]
  },
  {
   "cell_type": "markdown",
   "metadata": {},
   "source": [
    "### Boolean\n",
    "\n",
    "Boolean values in Python, encompassing True and False, are pivotal components of programming, enabling decision-making and control flow within code. Resulting from comparison operations or logical expressions, they play a foundational role in conditional statements like if, elif, and else, as well as in loops and control structures, directing the flow of execution based on specific conditions. Python's case-sensitive keywords, True and False, are essential in constructing logical expressions and facilitating clear and effective code. Additionally, Boolean values are returned by various built-in functions and methods, signaling the success or failure of operations. With support for Boolean operations such as and, or, and not, Python facilitates the creation of intricate logical expressions, empowering programmers to navigate complex decision-making processes seamlessly. Understanding Boolean values is fundamental to proficient programming in Python, as they underpin critical aspects of logic and control within code structures.\n"
   ]
  },
  {
   "cell_type": "code",
   "execution_count": 23,
   "metadata": {},
   "outputs": [
    {
     "name": "stdout",
     "output_type": "stream",
     "text": [
      "True\n",
      "<class 'bool'>\n"
     ]
    }
   ],
   "source": [
    "bool1: bool = True\n",
    "bool2: bool = False\n",
    "print(bool1)\n",
    "print(type(bool2))"
   ]
  },
  {
   "cell_type": "code",
   "execution_count": 24,
   "metadata": {},
   "outputs": [
    {
     "data": {
      "text/plain": [
       "['as_integer_ratio',\n",
       " 'bit_count',\n",
       " 'bit_length',\n",
       " 'conjugate',\n",
       " 'denominator',\n",
       " 'from_bytes',\n",
       " 'imag',\n",
       " 'is_integer',\n",
       " 'numerator',\n",
       " 'real',\n",
       " 'to_bytes']"
      ]
     },
     "execution_count": 24,
     "metadata": {},
     "output_type": "execute_result"
    }
   ],
   "source": [
    "# methods of booleans\n",
    "[i for i in dir(bool) if \"__\" not in i]"
   ]
  },
  {
   "cell_type": "markdown",
   "metadata": {},
   "source": [
    "---\n"
   ]
  },
  {
   "cell_type": "markdown",
   "metadata": {},
   "source": [
    "## Operators in Python\n",
    "\n",
    "Python divides the operators in the following groups:\n",
    "\n",
    "- Arithmetic operators\n",
    "- Assignment operators\n",
    "- Comparison operators\n",
    "- Logical operators\n",
    "- Identity operators\n",
    "- Membership operators\n",
    "- Bitwise operators\n"
   ]
  },
  {
   "cell_type": "markdown",
   "metadata": {},
   "source": [
    "### Arithmetic operators\n",
    "\n",
    "| Operator | Name           | Example  |\n",
    "| -------- | -------------- | -------- |\n",
    "| +        | Addition       | x + y    |\n",
    "| -        | Subtraction    | x - y    |\n",
    "| \\*       | Multiplication | x \\* y   |\n",
    "| /        | Division       | x / y    |\n",
    "| %        | Modulus        | x % y    |\n",
    "| \\*\\*     | Exponentiation | x \\*\\* y |\n",
    "| //       | Floor division | x // y   |\n"
   ]
  },
  {
   "cell_type": "code",
   "execution_count": 25,
   "metadata": {},
   "outputs": [
    {
     "name": "stdout",
     "output_type": "stream",
     "text": [
      "36\n"
     ]
    }
   ],
   "source": [
    "# Addition\n",
    "x: int = 11\n",
    "y: int = 25\n",
    "c = x + y\n",
    "print(c)"
   ]
  },
  {
   "cell_type": "code",
   "execution_count": 26,
   "metadata": {},
   "outputs": [
    {
     "name": "stdout",
     "output_type": "stream",
     "text": [
      "-10.25\n"
     ]
    }
   ],
   "source": [
    "# Subtraction\n",
    "x: int = 1\n",
    "y: float = 11.25\n",
    "c = x - y\n",
    "print(c)"
   ]
  },
  {
   "cell_type": "code",
   "execution_count": 27,
   "metadata": {},
   "outputs": [
    {
     "name": "stdout",
     "output_type": "stream",
     "text": [
      "(10+12j)\n"
     ]
    }
   ],
   "source": [
    "# Multiplication\n",
    "x: int = 1 + 1j\n",
    "y: complex = 11 + 1j\n",
    "c = x * y\n",
    "print(c)"
   ]
  },
  {
   "cell_type": "code",
   "execution_count": 28,
   "metadata": {},
   "outputs": [
    {
     "name": "stdout",
     "output_type": "stream",
     "text": [
      "aaa\n"
     ]
    }
   ],
   "source": [
    "x: str = \"a\"\n",
    "print(x * 3)"
   ]
  },
  {
   "cell_type": "code",
   "execution_count": 29,
   "metadata": {},
   "outputs": [
    {
     "name": "stdout",
     "output_type": "stream",
     "text": [
      "4.0\n"
     ]
    }
   ],
   "source": [
    "# Division\n",
    "x: int = 12\n",
    "y: int = 3\n",
    "c = x / y\n",
    "print(c)"
   ]
  },
  {
   "cell_type": "code",
   "execution_count": 30,
   "metadata": {},
   "outputs": [
    {
     "name": "stdout",
     "output_type": "stream",
     "text": [
      "1\n"
     ]
    }
   ],
   "source": [
    "# Modulus\n",
    "x: int = 13\n",
    "y: int = 3\n",
    "c = x % y\n",
    "print(c)"
   ]
  },
  {
   "cell_type": "code",
   "execution_count": 31,
   "metadata": {},
   "outputs": [
    {
     "name": "stdout",
     "output_type": "stream",
     "text": [
      "2197\n"
     ]
    }
   ],
   "source": [
    "# Exponential\n",
    "x: int = 13\n",
    "y: int = 3\n",
    "c = x**y\n",
    "print(c)"
   ]
  },
  {
   "cell_type": "code",
   "execution_count": 32,
   "metadata": {},
   "outputs": [
    {
     "name": "stdout",
     "output_type": "stream",
     "text": [
      "4\n"
     ]
    }
   ],
   "source": [
    "# Floor Division\n",
    "x: int = 13\n",
    "y: int = 3\n",
    "c = x // y\n",
    "print(c)"
   ]
  },
  {
   "cell_type": "markdown",
   "metadata": {},
   "source": [
    "### Comparison Operators\n",
    "\n",
    "| Operator | Name                     | Example |\n",
    "| -------- | ------------------------ | ------- |\n",
    "| ==       | Equal                    | x == y  |\n",
    "| !=       | Not equal                | x != y  |\n",
    "| >        | Greater than             | x > y   |\n",
    "| <        | Less than                | x < y   |\n",
    "| >=       | Greater than or equal to | x >= y  |\n",
    "| <=       | Less than or equal to    | x <= y  |\n",
    "\n",
    "- Comparison operators work based on ASCI code\n"
   ]
  },
  {
   "cell_type": "code",
   "execution_count": 33,
   "metadata": {},
   "outputs": [
    {
     "name": "stdout",
     "output_type": "stream",
     "text": [
      "65\n",
      "A\n"
     ]
    }
   ],
   "source": [
    "print(ord(\"A\"))\n",
    "print(chr(65))"
   ]
  },
  {
   "cell_type": "code",
   "execution_count": 34,
   "metadata": {},
   "outputs": [
    {
     "name": "stdout",
     "output_type": "stream",
     "text": [
      "False\n"
     ]
    }
   ],
   "source": [
    "# equal\n",
    "x: int = 5\n",
    "y: int = 10\n",
    "c: bool = x == y\n",
    "print(c)"
   ]
  },
  {
   "cell_type": "code",
   "execution_count": 35,
   "metadata": {},
   "outputs": [
    {
     "name": "stdout",
     "output_type": "stream",
     "text": [
      "True\n"
     ]
    }
   ],
   "source": [
    "# Not Equal\n",
    "x: int = 5\n",
    "y: int = 10\n",
    "c: bool = x != y\n",
    "print(c)"
   ]
  },
  {
   "cell_type": "code",
   "execution_count": 36,
   "metadata": {},
   "outputs": [
    {
     "name": "stdout",
     "output_type": "stream",
     "text": [
      "False\n"
     ]
    }
   ],
   "source": [
    "# Greater than\n",
    "x: int = 5\n",
    "y: int = 10\n",
    "c: bool = x > y\n",
    "print(c)"
   ]
  },
  {
   "cell_type": "code",
   "execution_count": 37,
   "metadata": {},
   "outputs": [
    {
     "name": "stdout",
     "output_type": "stream",
     "text": [
      "True\n"
     ]
    }
   ],
   "source": [
    "# Less than\n",
    "x: int = 5\n",
    "y: int = 10\n",
    "c: bool = x < y\n",
    "print(c)"
   ]
  },
  {
   "cell_type": "code",
   "execution_count": 38,
   "metadata": {},
   "outputs": [
    {
     "name": "stdout",
     "output_type": "stream",
     "text": [
      "False\n"
     ]
    }
   ],
   "source": [
    "# Greater than equal to\n",
    "x: int = 5\n",
    "y: int = 10\n",
    "c: bool = x >= y\n",
    "print(c)"
   ]
  },
  {
   "cell_type": "code",
   "execution_count": 39,
   "metadata": {},
   "outputs": [
    {
     "name": "stdout",
     "output_type": "stream",
     "text": [
      "True\n"
     ]
    }
   ],
   "source": [
    "# Less than equal to\n",
    "x: int = 5\n",
    "y: int = 10\n",
    "c: bool = x <= y\n",
    "print(c)"
   ]
  },
  {
   "cell_type": "markdown",
   "metadata": {},
   "source": [
    "### Logical Operators\n",
    "\n",
    "| Operator | Description                                   | Example               |\n",
    "| -------- | --------------------------------------------- | --------------------- |\n",
    "| and      | Returns True if both statements are true      | x < 5 and x < 10      |\n",
    "| or       | Returns True if one of the statements is true | x < 5 or x < 4        |\n",
    "| not      | Reverse the result                            | not(x < 5 and x < 10) |\n"
   ]
  },
  {
   "cell_type": "code",
   "execution_count": 40,
   "metadata": {},
   "outputs": [
    {
     "name": "stdout",
     "output_type": "stream",
     "text": [
      "True\n"
     ]
    }
   ],
   "source": [
    "# and\n",
    "print(True and True)"
   ]
  },
  {
   "cell_type": "code",
   "execution_count": 41,
   "metadata": {},
   "outputs": [
    {
     "name": "stdout",
     "output_type": "stream",
     "text": [
      "True\n"
     ]
    }
   ],
   "source": [
    "# or\n",
    "print(True or False)"
   ]
  },
  {
   "cell_type": "code",
   "execution_count": 42,
   "metadata": {},
   "outputs": [
    {
     "name": "stdout",
     "output_type": "stream",
     "text": [
      "False\n"
     ]
    }
   ],
   "source": [
    "# not\n",
    "print(not True)"
   ]
  },
  {
   "cell_type": "code",
   "execution_count": 43,
   "metadata": {},
   "outputs": [
    {
     "name": "stdout",
     "output_type": "stream",
     "text": [
      "True\n"
     ]
    }
   ],
   "source": [
    "# examples\n",
    "print(True and True and True and True)"
   ]
  },
  {
   "cell_type": "code",
   "execution_count": 44,
   "metadata": {},
   "outputs": [
    {
     "name": "stdout",
     "output_type": "stream",
     "text": [
      "True\n"
     ]
    }
   ],
   "source": [
    "# examples\n",
    "print(True and True and True and True)"
   ]
  },
  {
   "cell_type": "code",
   "execution_count": 45,
   "metadata": {},
   "outputs": [
    {
     "name": "stdout",
     "output_type": "stream",
     "text": [
      "True\n",
      "False\n",
      "False\n"
     ]
    }
   ],
   "source": [
    "# example\n",
    "print(True and True and True and True)\n",
    "print(True and True and False and True)\n",
    "print(False and False and False and True)"
   ]
  },
  {
   "cell_type": "code",
   "execution_count": 46,
   "metadata": {},
   "outputs": [
    {
     "name": "stdout",
     "output_type": "stream",
     "text": [
      "True\n",
      "True\n",
      "True\n",
      "False\n"
     ]
    }
   ],
   "source": [
    "# example\n",
    "print(True or True or True or True)\n",
    "print(True or True or False or True)\n",
    "print(False or False or False or True)\n",
    "print(False or False or False or False)"
   ]
  },
  {
   "cell_type": "markdown",
   "metadata": {},
   "source": [
    "### Assignment Operators\n",
    "\n",
    "| Operator | Example   | Same As      |\n",
    "| -------- | --------- | ------------ |\n",
    "| =        | x = 5     | x = 5        |\n",
    "| +=       | x += 3    | x = x + 3    |\n",
    "| -=       | x -= 3    | x = x - 3    |\n",
    "| \\_=      | x \\_= 3   | x = x \\* 3   |\n",
    "| /=       | x /= 3    | x = x / 3    |\n",
    "| %=       | x %= 3    | x = x % 3    |\n",
    "| //=      | x //= 3   | x = x // 3   |\n",
    "| \\*\\*=    | x \\*\\*= 3 | x = x \\*\\* 3 |\n",
    "| &=       | x &= 3    | x = x & 3    |\n",
    "| \\|=      | x\\|=3     | x = x \\| 3   |\n",
    "| ^=       | x ^= 3    | x = x ^ 3    |\n",
    "| >>=      | x >>= 3   | x = x >> 3   |\n",
    "| <<=      | x <<= 3   | x = x << 3   |\n"
   ]
  },
  {
   "cell_type": "code",
   "execution_count": 47,
   "metadata": {},
   "outputs": [
    {
     "name": "stdout",
     "output_type": "stream",
     "text": [
      "5\n"
     ]
    }
   ],
   "source": [
    "# =\n",
    "x: int = 5\n",
    "print(x)"
   ]
  },
  {
   "cell_type": "code",
   "execution_count": 48,
   "metadata": {},
   "outputs": [
    {
     "name": "stdout",
     "output_type": "stream",
     "text": [
      "qasim\n",
      "7\n",
      "3.0\n"
     ]
    }
   ],
   "source": [
    "# =\n",
    "a, b, c = \"qasim\", 7, 3.0\n",
    "print(a)\n",
    "print(b)\n",
    "print(c)"
   ]
  },
  {
   "cell_type": "code",
   "execution_count": 49,
   "metadata": {},
   "outputs": [
    {
     "name": "stdout",
     "output_type": "stream",
     "text": [
      "8\n"
     ]
    }
   ],
   "source": [
    "# +=\n",
    "x: int = 5\n",
    "# x = x + 3\n",
    "x += 3\n",
    "print(x)"
   ]
  },
  {
   "cell_type": "code",
   "execution_count": 50,
   "metadata": {},
   "outputs": [
    {
     "name": "stdout",
     "output_type": "stream",
     "text": [
      "2\n"
     ]
    }
   ],
   "source": [
    "# -=\n",
    "x: int = 5\n",
    "# x = x - 3\n",
    "x -= 3\n",
    "print(x)"
   ]
  },
  {
   "cell_type": "code",
   "execution_count": 51,
   "metadata": {},
   "outputs": [
    {
     "name": "stdout",
     "output_type": "stream",
     "text": [
      "15\n"
     ]
    }
   ],
   "source": [
    "# *=\n",
    "x: int = 5\n",
    "# x = x * 3\n",
    "x *= 3\n",
    "print(x)"
   ]
  },
  {
   "cell_type": "code",
   "execution_count": 52,
   "metadata": {},
   "outputs": [
    {
     "name": "stdout",
     "output_type": "stream",
     "text": [
      "1.6666666666666667\n"
     ]
    }
   ],
   "source": [
    "# /=\n",
    "x: int = 5\n",
    "# x = x / 3\n",
    "x /= 3\n",
    "print(x)"
   ]
  },
  {
   "cell_type": "code",
   "execution_count": 53,
   "metadata": {},
   "outputs": [
    {
     "name": "stdout",
     "output_type": "stream",
     "text": [
      "2\n"
     ]
    }
   ],
   "source": [
    "# %=\n",
    "x: int = 5\n",
    "# x = x % 3\n",
    "x %= 3\n",
    "print(x)"
   ]
  },
  {
   "cell_type": "code",
   "execution_count": 54,
   "metadata": {},
   "outputs": [
    {
     "name": "stdout",
     "output_type": "stream",
     "text": [
      "1\n"
     ]
    }
   ],
   "source": [
    "# //=\n",
    "x: int = 5\n",
    "# x = x // 3\n",
    "x //= 3\n",
    "print(x)"
   ]
  },
  {
   "cell_type": "code",
   "execution_count": 55,
   "metadata": {},
   "outputs": [
    {
     "name": "stdout",
     "output_type": "stream",
     "text": [
      "125\n"
     ]
    }
   ],
   "source": [
    "# **=\n",
    "x: int = 5\n",
    "# x = x ** 3\n",
    "x **= 3\n",
    "print(x)"
   ]
  },
  {
   "cell_type": "code",
   "execution_count": 56,
   "metadata": {},
   "outputs": [
    {
     "name": "stdout",
     "output_type": "stream",
     "text": [
      "0\n"
     ]
    }
   ],
   "source": [
    "# &=\n",
    "x: int = 4\n",
    "# x = x & 2\n",
    "x &= 2\n",
    "print(x)"
   ]
  },
  {
   "cell_type": "code",
   "execution_count": 57,
   "metadata": {},
   "outputs": [
    {
     "name": "stdout",
     "output_type": "stream",
     "text": [
      "6\n"
     ]
    }
   ],
   "source": [
    "# |=\n",
    "x: int = 4\n",
    "# x = x | 2\n",
    "x |= 2\n",
    "print(x)"
   ]
  },
  {
   "cell_type": "code",
   "execution_count": 58,
   "metadata": {},
   "outputs": [
    {
     "name": "stdout",
     "output_type": "stream",
     "text": [
      "6\n"
     ]
    }
   ],
   "source": [
    "# ^=\n",
    "x: int = 4\n",
    "# x = x ^ 2\n",
    "x ^= 2\n",
    "print(x)"
   ]
  },
  {
   "cell_type": "code",
   "execution_count": 59,
   "metadata": {},
   "outputs": [
    {
     "name": "stdout",
     "output_type": "stream",
     "text": [
      "0\n"
     ]
    }
   ],
   "source": [
    "# >>=\n",
    "x: int = 5\n",
    "# x = x >> 3\n",
    "# 101 ---> 000\n",
    "x >>= 3\n",
    "print(x)"
   ]
  },
  {
   "cell_type": "code",
   "execution_count": 60,
   "metadata": {},
   "outputs": [
    {
     "name": "stdout",
     "output_type": "stream",
     "text": [
      "40\n"
     ]
    }
   ],
   "source": [
    "# <<=\n",
    "x: int = 5\n",
    "# x = x << 3\n",
    "# 101 ---> 101 000\n",
    "x <<= 3\n",
    "print(x)"
   ]
  },
  {
   "cell_type": "markdown",
   "metadata": {},
   "source": [
    "### Identity Operators\n",
    "\n",
    "| Operator | Description                                    | Example    |\n",
    "| -------- | ---------------------------------------------- | ---------- |\n",
    "| is       | Returns True if both variables are the same    | x is y     |\n",
    "| is not   | Returns True if both variables are not the sam | x is not y |\n"
   ]
  },
  {
   "cell_type": "code",
   "execution_count": 61,
   "metadata": {},
   "outputs": [
    {
     "name": "stdout",
     "output_type": "stream",
     "text": [
      "10816192\n",
      "10816192\n"
     ]
    }
   ],
   "source": [
    "x: str = \"abc\"\n",
    "z: str = \"abc\"\n",
    "\n",
    "print(id(x))\n",
    "print(id(z))"
   ]
  },
  {
   "cell_type": "code",
   "execution_count": 62,
   "metadata": {},
   "outputs": [
    {
     "name": "stdout",
     "output_type": "stream",
     "text": [
      "10816192\n",
      "125522343191312\n"
     ]
    }
   ],
   "source": [
    "i: str = \"abc\"\n",
    "j: str = \"xyz\"\n",
    "\n",
    "print(id(i))\n",
    "print(id(j))"
   ]
  },
  {
   "cell_type": "code",
   "execution_count": 63,
   "metadata": {},
   "outputs": [
    {
     "name": "stdout",
     "output_type": "stream",
     "text": [
      "True\n"
     ]
    }
   ],
   "source": [
    "# is\n",
    "print(x is z)"
   ]
  },
  {
   "cell_type": "code",
   "execution_count": 64,
   "metadata": {},
   "outputs": [
    {
     "name": "stdout",
     "output_type": "stream",
     "text": [
      "True\n"
     ]
    }
   ],
   "source": [
    "# is not\n",
    "print(x is not j)"
   ]
  },
  {
   "cell_type": "markdown",
   "metadata": {},
   "source": [
    "### Membership Operators\n",
    "\n",
    "| Operator | Example    |\n",
    "| -------- | ---------- |\n",
    "| in       | x in y     |\n",
    "| not in   | x not in y |\n"
   ]
  },
  {
   "cell_type": "code",
   "execution_count": 65,
   "metadata": {},
   "outputs": [
    {
     "name": "stdout",
     "output_type": "stream",
     "text": [
      "True\n"
     ]
    }
   ],
   "source": [
    "# in\n",
    "names: list[str] = [chr(i) for i in range(65, 91)]\n",
    "\n",
    "print(\"D\" in names)"
   ]
  },
  {
   "cell_type": "code",
   "execution_count": 66,
   "metadata": {},
   "outputs": [
    {
     "data": {
      "text/plain": [
       "['A',\n",
       " 'B',\n",
       " 'C',\n",
       " 'D',\n",
       " 'E',\n",
       " 'F',\n",
       " 'G',\n",
       " 'H',\n",
       " 'I',\n",
       " 'J',\n",
       " 'K',\n",
       " 'L',\n",
       " 'M',\n",
       " 'N',\n",
       " 'O',\n",
       " 'P',\n",
       " 'Q',\n",
       " 'R',\n",
       " 'S',\n",
       " 'T',\n",
       " 'U',\n",
       " 'V',\n",
       " 'W',\n",
       " 'X',\n",
       " 'Y',\n",
       " 'Z']"
      ]
     },
     "metadata": {},
     "output_type": "display_data"
    },
    {
     "data": {
      "text/plain": [
       "False"
      ]
     },
     "execution_count": 66,
     "metadata": {},
     "output_type": "execute_result"
    }
   ],
   "source": [
    "# in\n",
    "names: list[str] = [chr(i) for i in range(65, 91)]\n",
    "display(names)\n",
    "\n",
    "\"Pakistan\" in names"
   ]
  },
  {
   "cell_type": "code",
   "execution_count": 67,
   "metadata": {},
   "outputs": [
    {
     "name": "stdout",
     "output_type": "stream",
     "text": [
      "False\n"
     ]
    }
   ],
   "source": [
    "# not in\n",
    "names: list[str] = [chr(i) for i in range(65, 91)]\n",
    "\n",
    "print(\"D\" not in names)"
   ]
  },
  {
   "cell_type": "markdown",
   "metadata": {},
   "source": [
    "### PEDMAS\n",
    "\n",
    "- **P** --- Parentheses/Brackets\n",
    "- **E** --- Exponents\n",
    "- **D** --- Division\n",
    "- **M** --- Multiplication\n",
    "- **A** --- Addition\n",
    "- **S** --- Subtraction\n"
   ]
  },
  {
   "cell_type": "code",
   "execution_count": 68,
   "metadata": {},
   "outputs": [
    {
     "name": "stdout",
     "output_type": "stream",
     "text": [
      "3.0\n"
     ]
    }
   ],
   "source": [
    "print(3 + 2 - 2 * 4 / 2 + 2)"
   ]
  },
  {
   "cell_type": "markdown",
   "metadata": {},
   "source": [
    "---\n"
   ]
  }
 ],
 "metadata": {
  "kernelspec": {
   "display_name": "session_03_numbers_operators",
   "language": "python",
   "name": "session_03_numbers_operators"
  },
  "language_info": {
   "codemirror_mode": {
    "name": "ipython",
    "version": 3
   },
   "file_extension": ".py",
   "mimetype": "text/x-python",
   "name": "python",
   "nbconvert_exporter": "python",
   "pygments_lexer": "ipython3",
   "version": "3.12.2"
  }
 },
 "nbformat": 4,
 "nbformat_minor": 2
}
